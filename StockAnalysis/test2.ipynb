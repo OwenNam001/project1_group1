{
 "cells": [
  {
   "cell_type": "code",
   "execution_count": 3,
   "metadata": {},
   "outputs": [
    {
     "data": {
      "text/plain": [
       "{'status': 'REQUEST_FAILED',\n",
       " 'responseTime': 0,\n",
       " 'message': ['Your request has failed. Please check your input parameters, and try your request again.'],\n",
       " 'Results': None}"
      ]
     },
     "execution_count": 3,
     "metadata": {},
     "output_type": "execute_result"
    }
   ],
   "source": [
    "# Common Module for Unemployment Rate data retrieval\n",
    "\n",
    "# Dependencies and Setup\n",
    "import requests\n",
    "from pprint import pprint\n",
    "import pandas as pd\n",
    "\n",
    "# Import the API key\n",
    "from api_keys import bls_api_key\n",
    "\n",
    "# Create a dataFrame for Monthly Unployment Rate\n",
    "\n",
    "URL = 'https://api.bls.gov/publicAPI/v2/timeseries/data/'\n",
    "\n",
    "api_key = bls_api_key\n",
    "series_id = 'LNS14000000'  # Series ID for US unemployment rate\n",
    "startyear = '2010'\n",
    "endyear = '2019'\n",
    "\n",
    "# Parameter setting\n",
    "params = {\n",
    "    'seriesid': series_id,\n",
    "    'startyear':startyear,\n",
    "    'endyear': endyear,\n",
    "    'registrationKey': api_key\n",
    "}\n",
    "\n",
    "# Fetch unemployment data from BLS\n",
    "response = requests.post(URL, json=params)\n",
    "unemployment_data = response.json()\n",
    "\n",
    "unemployment_data\n",
    "\n",
    "# # Initialize an empty list to hold the unemployment data\n",
    "# unemployment_list = []\n",
    "\n",
    "# # Extract data from the response\n",
    "# series_data = unemployment_data[\"Results\"][\"series\"][0][\"data\"]\n",
    "# for item in series_data:\n",
    "#     unemployment_list.append({\n",
    "#                                 \"Year\": item[\"year\"],\n",
    "#                                 \"Month\": item[\"periodName\"],\n",
    "#                                 \"Rate\": item[\"value\"]\n",
    "#                             })\n",
    "\n",
    "# # Convert the list to a DataFrame\n",
    "# unemployment_data_df = pd.DataFrame(unemployment_list)\n",
    "# unemployment_data_df[\"Rate\"] = unemployment_data_df[\"Rate\"].astype('float')\n",
    "# unemployment_data_df.reset_index()\n",
    "\n",
    "# unemployment_data_df\n"
   ]
  },
  {
   "cell_type": "code",
   "execution_count": null,
   "metadata": {},
   "outputs": [],
   "source": []
  }
 ],
 "metadata": {
  "kernelspec": {
   "display_name": "dev",
   "language": "python",
   "name": "python3"
  },
  "language_info": {
   "codemirror_mode": {
    "name": "ipython",
    "version": 3
   },
   "file_extension": ".py",
   "mimetype": "text/x-python",
   "name": "python",
   "nbconvert_exporter": "python",
   "pygments_lexer": "ipython3",
   "version": "3.10.14"
  }
 },
 "nbformat": 4,
 "nbformat_minor": 2
}
