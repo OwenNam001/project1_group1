{
 "cells": [
  {
   "cell_type": "markdown",
   "metadata": {},
   "source": [
    "# 09. Monthly Profits Compared to Interest Rates 1 Month Before\n",
    "Hypothesis: I hypothesise that the stock profits will be lower compared to the interest rate.\n",
    "\n",
    "Conculsion made from data: The Interest rate of the month after the datasample doesn't show any significant correlation."
   ]
  },
  {
   "cell_type": "code",
   "execution_count": 9,
   "metadata": {},
   "outputs": [],
   "source": [
    "# Import Dependencies\n",
    "import matplotlib.pyplot as plt\n",
    "import pandas as pd\n",
    "import numpy as np\n",
    "import scipy.stats as st\n",
    "from scipy.stats import linregress\n",
    "from pprint import pprint\n",
    "import calendar\n",
    "\n",
    "from Common_Module.Common_InterestRate import get_interest_data\n",
    "from Common_Module.Common_Stockdata import get_stock_data"
   ]
  },
  {
   "cell_type": "markdown",
   "metadata": {},
   "source": [
    "## CREATING A REQUESTS\n",
    "Using Common Modules and FREDAPI aquire the monthly Interest Rates and Profits over 10 years (2010-2019)\n",
    "\n",
    "For this segment, we will make our request to the FRED API and AlphaAdvantage API for data in the form of a json and dataframe respectively, please\n",
    "ensure you have edited the api_keys.py file to have your unique keys\n"
   ]
  },
  {
   "cell_type": "code",
   "execution_count": 10,
   "metadata": {},
   "outputs": [],
   "source": [
    "# Request stock dataframe from Common_Stockdata.py\n",
    "stock_info_df = get_stock_data()\n",
    "\n",
    "# Fred API Dataframe\n",
    "interest_data = get_interest_data()"
   ]
  },
  {
   "cell_type": "markdown",
   "metadata": {},
   "source": [
    "## Assemble the Dataframes ready for merging\n",
    "In this segment we will take our raw data from our requests and sort it into monthly data ready to be all merged together into a complete frame"
   ]
  },
  {
   "cell_type": "code",
   "execution_count": 11,
   "metadata": {},
   "outputs": [],
   "source": [
    "## Using Common_Stockdata.py to make a new dataframe for Monthly Profits\n",
    "# Date, Month Column creation by using Date\n",
    "stock_info_df['Year'] = stock_info_df['Date'].dt.year\n",
    "stock_info_df['Month_Number'] = stock_info_df['Date'].dt.month\n",
    "\n",
    "# Close price for each Year, Month\n",
    "monthly_data = stock_info_df.groupby(['Year', 'Month_Number'])\n",
    "last_close = monthly_data['Close'].last().reset_index()\n",
    "first_open = monthly_data[\"Open\"].first().reset_index()\n",
    "profit_monthly = last_close['Close'] - first_open['Open']\n",
    "profit_df = pd.DataFrame({'profit_monthly': profit_monthly})\n",
    "\n",
    "# dataFrame creation\n",
    "monthly_profit_df = pd.DataFrame({\n",
    "                                    'Year': last_close['Year'],\n",
    "                                    'Month_Number': last_close['Month_Number'],\n",
    "                                    'Monthly_Profit': profit_df['profit_monthly']\n",
    "                                })\n",
    "\n",
    "# Generate month numbers (1-12)\n",
    "month_numbers = list(range(1, 13))\n",
    "\n",
    "# Use list comprehension to map month numbers to month names\n",
    "month_names = [calendar.month_name[month] for month in month_numbers]\n",
    "\n",
    "# Create the DataFrame\n",
    "month_df = pd.DataFrame({\n",
    "                            'Month_Number': month_numbers,\n",
    "                            'Month': month_names\n",
    "                        })\n",
    "\n",
    "# Merge the DataFrames on 'Month' from monthly_profit_df and 'Month Number' from month_df\n",
    "monthly_profit_merge_df = pd.merge(monthly_profit_df, month_df, left_on='Month_Number', right_on='Month_Number', how='left')\n",
    "monthly_profit_final_df = monthly_profit_merge_df[[\"Year\", \"Month\", \"Monthly_Profit\"]]"
   ]
  },
  {
   "cell_type": "code",
   "execution_count": 12,
   "metadata": {},
   "outputs": [],
   "source": [
    "# Merging the Fred frame with Month names\n",
    "merged_interest_df = pd.merge(interest_data, month_df, left_on=\"Month\",right_on=\"Month_Number\", how=\"left\")\n",
    "same_merged_interest_df = merged_interest_df[['Year', \"Month_y\", \"Interest_Rate\"]]\n",
    "same_merged_interest_df.loc[:, \"Year\"] = same_merged_interest_df[\"Year\"].astype(float)"
   ]
  },
  {
   "cell_type": "code",
   "execution_count": 13,
   "metadata": {},
   "outputs": [],
   "source": [
    "# Creating a new merged dataframe of the two separate ones\n",
    "same_month_df = pd.merge(same_merged_interest_df, monthly_profit_final_df, left_on=[\"Year\", \"Month_y\"], right_on=[\"Year\", \"Month\"], how=\"left\")\n",
    "same_month_df = same_month_df[[\"Year\", \"Month\", \"Interest_Rate\", \"Monthly_Profit\"]]"
   ]
  },
  {
   "cell_type": "markdown",
   "metadata": {},
   "source": [
    "## Creating the Scatter\n",
    "Now that we have all of our data and its neatly organised, we can create a scatterplot for:"
   ]
  },
  {
   "cell_type": "code",
   "execution_count": 14,
   "metadata": {},
   "outputs": [],
   "source": [
    "# Shifting the month column up one to be aligned with prior months rates (eg the profits of Feb compared with Interest rates of Jan)\n",
    "same_month_df[[\"Month_Before\", \"Interest_Before\"]] = same_month_df[[\"Month\", 'Interest_Rate']].shift(1)\n",
    "monthbefore_df = same_month_df[[\"Year\", \"Month_Before\", \"Interest_Before\", \"Monthly_Profit\"]]\n",
    "month_before_df = monthbefore_df.drop(monthbefore_df.index[0])"
   ]
  },
  {
   "cell_type": "code",
   "execution_count": 15,
   "metadata": {},
   "outputs": [
    {
     "data": {
      "image/png": "[encoded data removed]",
      "text/plain": [
       "<Figure size 640x480 with 1 Axes>"
      ]
     },
     "metadata": {},
     "output_type": "display_data"
    }
   ],
   "source": [
    "mb_int_rate = month_before_df[\"Interest_Before\"].tolist()\n",
    "mb_month_prof = month_before_df[\"Monthly_Profit\"].tolist()\n",
    "\n",
    "mb_int_rate_float = [float(val) for val in mb_int_rate]\n",
    "mb_month_prof_float = [float(val) for val in mb_month_prof]\n",
    "\n",
    "plt.scatter(mb_int_rate_float, mb_month_prof_float, color='green', label=\"Dataset1\")\n",
    "plt.xticks(np.arange(min(mb_int_rate_float), max(mb_int_rate_float)+0.5, 0.5))\n",
    "plt.xlabel('Interest Rate')\n",
    "plt.ylabel('Monthly Profits')\n",
    "plt.title('10 Year comparison of Interest Rates a month after Profits')\n",
    "plt.savefig(\"output_data/Interest_1MonthAfter.png\")"
   ]
  },
  {
   "cell_type": "code",
   "execution_count": 16,
   "metadata": {},
   "outputs": [
    {
     "name": "stdout",
     "output_type": "stream",
     "text": [
      "The correlation between these variables is: -0.11\n"
     ]
    }
   ],
   "source": [
    "correlation = st.pearsonr(mb_int_rate_float, mb_month_prof_float)\n",
    "print(f\"The correlation between these variables is: {round(correlation[0],2)}\")"
   ]
  }
 ],
 "metadata": {
  "kernelspec": {
   "display_name": "3.10pyv",
   "language": "python",
   "name": "python3"
  },
  "language_info": {
   "codemirror_mode": {
    "name": "ipython",
    "version": 3
   },
   "file_extension": ".py",
   "mimetype": "text/x-python",
   "name": "python",
   "nbconvert_exporter": "python",
   "pygments_lexer": "ipython3",
   "version": "3.10.14"
  }
 },
 "nbformat": 4,
 "nbformat_minor": 2
}
