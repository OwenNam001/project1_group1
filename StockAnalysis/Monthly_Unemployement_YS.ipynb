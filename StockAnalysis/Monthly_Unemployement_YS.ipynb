{
 "cells": [
  {
   "cell_type": "markdown",
   "metadata": {},
   "source": [
    "# Objective"
   ]
  },
  {
   "cell_type": "code",
   "execution_count": null,
   "metadata": {},
   "outputs": [],
   "source": [
    "# Dependencies and Setup\n",
    "import matplotlib.pyplot as plt\n",
    "import pandas as pd\n",
    "import numpy as np\n",
    "import requests\n",
    "import time\n",
    "from scipy.stats import linregress\n",
    "from pprint import pprint\n",
    "\n",
    "# Import the API key\n",
    "from api_keys import bls_api_key, alpha_vantage_api_key\n",
    "\n",
    "# Turn off warning messages\n",
    "import warnings\n",
    "warnings.filterwarnings(\"ignore\")"
   ]
  },
  {
   "cell_type": "markdown",
   "metadata": {},
   "source": [
    "# Part 1: Find monthly unemployment data in US\n",
    "\n",
    "### U.S.Bureau of Labor Statistics (BLS)\n",
    "Refer to https://www.bls.gov/developers/home.htm for BLS API webpage. Referencing BLS data, extract unemployment data for the past decade from 2014 till 2024 and plot a scatter plot.\n",
    "\n",
    "### Identify Series ID for unemployment rate\n",
    "Referencing https://beta.bls.gov/dataQuery/find?q=unemployment to find series ID info for unemployment.\n",
    "\n",
    "Required series ID is **LNS14000000**."
   ]
  },
  {
   "cell_type": "code",
   "execution_count": null,
   "metadata": {},
   "outputs": [],
   "source": [
    "# Set base url\n",
    "base_url = 'https://api.bls.gov/publicAPI/v2/timeseries/data/'\n",
    "\n",
    "# Set parameters\n",
    "seriesid = 'LNS14000000'\n",
    "startyear = 2013\n",
    "endyear = 2023\n",
    "registrationkey = bls_api_key\n",
    "\n",
    "# Create parameter dictionary\n",
    "params = {'seriesid':[seriesid],\n",
    "          'startyear':startyear,\n",
    "          'endyear':endyear,\n",
    "          'registrationkey':registrationkey}\n",
    "\n",
    "# Run a request and return response\n",
    "response = requests.post(base_url, json=params)\n",
    "\n",
    "# Convert response to json\n",
    "response_json = response.json()"
   ]
  },
  {
   "cell_type": "code",
   "execution_count": null,
   "metadata": {},
   "outputs": [],
   "source": [
    "# set up list to hold reponse info\n",
    "unemployment_data = []\n",
    "\n",
    "# Loop through the list of unemployment data and store data on each year in a list\n",
    "unemployment_years = response_json['Results']['series'][0]['data']\n",
    "\n",
    "for list in unemployment_years:\n",
    "    \n",
    "    unemployment_data.append({'Year': list['year'],\n",
    "                              'Month': list['periodName'],\n",
    "                              'Rate': list['value']})\n",
    "\n",
    "# Create data frame based on collected list\n",
    "unemployment_df = pd.DataFrame(unemployment_data)\n",
    "\n",
    "# Convert columns type\n",
    "unemployment_df['Rate'] = unemployment_df['Rate'].astype(float)\n",
    "unemployment_df['Year'] = unemployment_df['Year'].astype(int)\n",
    "unemployment_df['Month'] = unemployment_df['Month'].astype(object)"
   ]
  },
  {
   "cell_type": "code",
   "execution_count": null,
   "metadata": {},
   "outputs": [],
   "source": [
    "unemployment_df"
   ]
  },
  {
   "cell_type": "markdown",
   "metadata": {},
   "source": [
    "# Part 2: Find Monthly Stock Profit of ticker\n",
    "Monthly profits [same month with unemployement announce] (y-axis) vs unemployeement rate (x-axis) by scatter plot.\n",
    "\n",
    "**Note: Monthly profits is defined by the stock price at 'close' of the month minus stock price at 'Open' of the month.**\n",
    "\n",
    "### Alpha Vantage\n",
    "Reference https://www.alphavantage.co/documentation/#monthly.\n",
    "\n",
    "### Ticker symbol QQQ\n",
    "Reference https://www.nasdaq.com/market-activity/etf/qqq. This is based on NASDAQ-100 index."
   ]
  },
  {
   "cell_type": "code",
   "execution_count": null,
   "metadata": {},
   "outputs": [],
   "source": [
    "# Set base url\n",
    "base_url = 'https://www.alphavantage.co/query?'\n",
    "\n",
    "# Set parameters\n",
    "function = 'TIME_SERIES_MONTHLY'\n",
    "symbol = 'QQQ'\n",
    "apikey = alpha_vantage_api_key\n",
    "\n",
    "# Create parameter dictionary\n",
    "params = {'function': function,\n",
    "          'symbol': symbol,\n",
    "          'apikey': apikey}\n",
    "\n",
    "# Run a request and return response\n",
    "response = requests.get(base_url, params=params)\n",
    "\n",
    "# Convert response to json\n",
    "response_json = response.json()"
   ]
  },
  {
   "cell_type": "code",
   "execution_count": null,
   "metadata": {},
   "outputs": [],
   "source": [
    "# Create an empty list to store stock price\n",
    "ticker_prices = []\n",
    "\n",
    "# Loop through the list of price data and store in a list\n",
    "ticker_price = response_json['Monthly Time Series']\n",
    "\n",
    "# Iterate key-value pairs of the list\n",
    "for date, value in ticker_price.items():\n",
    "    \n",
    "    ticker_prices.append({'Date': date,\n",
    "                          'Open': value['1. open'],\n",
    "                          'Close': value['4. close']})\n",
    "\n",
    "# Create data frame based on collected list\n",
    "ticker_df = pd.DataFrame(ticker_prices)\n",
    "\n",
    "# Convert Date columnb type from object to datetime\n",
    "ticker_df['Date'] = pd.to_datetime(ticker_df['Date'], format='%Y-%m-%d')\n",
    "\n",
    "# Convert profit column from object to float and into unit (millions)\n",
    "ticker_df['Open'] = ticker_df['Open'].astype(float)\n",
    "ticker_df['Close'] = ticker_df['Close'].astype(float)\n",
    "\n",
    "# Create new columns for data frame\n",
    "# Extract year and month\n",
    "ticker_df['Year'] = ticker_df['Date'].dt.year\n",
    "ticker_df['Month'] = ticker_df['Date'].dt.month\n",
    "ticker_df['Monthly Profits'] = ticker_df['Close'] - ticker_df['Open']\n",
    "\n",
    "# Convert month from integer to string\n",
    "ticker_df['Month'] = pd.to_datetime(ticker_df['Month'].astype(str), format='%m').dt.month_name()\n",
    "\n",
    "# Remove irrelevant columns\n",
    "ticker_df = ticker_df.loc[:, ['Year', 'Month', 'Monthly Profits']]"
   ]
  },
  {
   "cell_type": "code",
   "execution_count": null,
   "metadata": {},
   "outputs": [],
   "source": [
    "# Combine both data frames\n",
    "combined_df = pd.merge(ticker_df, unemployment_df, how='inner', on=['Year','Month'])\n",
    "\n",
    "# Add the linear regression equation and line to plot\n",
    "x_values = combined_df['Rate']\n",
    "y_values = combined_df['Monthly Profits']\n",
    "(slope, intercept, rvalue, pvalue, stderr) = linregress(x_values, y_values)\n",
    "regress_values = x_values * slope + intercept\n",
    "line_eq = \"y = \" + str(round(slope,2)) + \"x + \" + str(round(intercept,2))\n",
    "plt.scatter(x_values,y_values)\n",
    "plt.plot(x_values,regress_values,\"r-\")\n",
    "\n",
    "# Adjust the annotated location as required\n",
    "plt.annotate(line_eq,(10,-100),fontsize=15,color=\"red\")\n",
    "plt.xlabel('Unemployment Rate (%)')\n",
    "plt.ylabel('Monthly Profits (same month with unemployement announce)')\n",
    "plt.title(f'Comparison of Monthly Profits vs Unemployment Rate for {symbol}')\n",
    "\n",
    "# Print the r squared value\n",
    "print(f\"The r-squared is: {round(rvalue**2, 4)}\")\n",
    "\n",
    "# Show plot\n",
    "plt.show()\n"
   ]
  },
  {
   "cell_type": "markdown",
   "metadata": {},
   "source": [
    "# Part 3: Find Monthly Stock Profit of ticker\n",
    "Monthly profits [one month before unemployement announce] (y-axis) vs unemployeement rate (x-axis) by scatter plot"
   ]
  },
  {
   "cell_type": "code",
   "execution_count": null,
   "metadata": {},
   "outputs": [],
   "source": [
    "# Modify unemployment data frame to suit Monthly profits [one month before unemployement announce] by creating a new column with the months moved down by one row.\n",
    "# Make a copy of the data frame\n",
    "unemployment_month_before_df = unemployment_df\n",
    "\n",
    "# Offset the data in 'Column1' by 1 place downwards\n",
    "unemployment_month_before_df['Month Before'] = unemployment_month_before_df['Month'].shift(-1)\n",
    "\n",
    "# Rename ticker data frame month column to month before\n",
    "ticker_month_before_df = ticker_df.rename(columns={'Month':'Month Before'})"
   ]
  },
  {
   "cell_type": "code",
   "execution_count": null,
   "metadata": {},
   "outputs": [],
   "source": [
    "# Combine both data frames\n",
    "combined_df = pd.merge(ticker_month_before_df, unemployment_month_before_df, how='inner', on=['Year','Month Before'])\n",
    "\n",
    "# Add the linear regression equation and line to plot\n",
    "x_values = combined_df['Rate']\n",
    "y_values = combined_df['Monthly Profits']\n",
    "(slope, intercept, rvalue, pvalue, stderr) = linregress(x_values, y_values)\n",
    "regress_values = x_values * slope + intercept\n",
    "line_eq = \"y = \" + str(round(slope,2)) + \"x + \" + str(round(intercept,2))\n",
    "plt.scatter(x_values,y_values)\n",
    "plt.plot(x_values,regress_values,\"r-\")\n",
    "\n",
    "# Adjust the annotated location as required\n",
    "plt.annotate(line_eq,(10,-100),fontsize=15,color=\"red\")\n",
    "plt.xlabel('Unemployment Rate (%)')\n",
    "plt.ylabel('Monthly Profits (same month with unemployement announce)')\n",
    "plt.title(f'Comparison of Monthly Profits vs Unemployment Rate for {symbol}')\n",
    "\n",
    "# Print the r squared value\n",
    "print(f\"The r-squared is: {round(rvalue**2, 4)}\")\n",
    "\n",
    "# Show plot\n",
    "plt.show()\n"
   ]
  },
  {
   "cell_type": "markdown",
   "metadata": {},
   "source": [
    "# Part 4: Find Monthly Stock Profit of ticker\n",
    "Monthly profits [one month after unemployement announce] (y-axis) vs unemployeement rate (x-axis) by scatter plot"
   ]
  },
  {
   "cell_type": "code",
   "execution_count": null,
   "metadata": {},
   "outputs": [],
   "source": [
    "# Modify unemployment data frame to suit Monthly profits [one month before unemployement announce] by creating a new column with the months moved down by one row.\n",
    "# Make a copy of the data frame\n",
    "unemployment_month_after_df = unemployment_df\n",
    "\n",
    "# Offset the data in 'Column1' by 1 place downwards\n",
    "unemployment_month_after_df['Month After'] = unemployment_month_before_df['Month'].shift(1)\n",
    "\n",
    "# Rename ticker data frame month column to month after\n",
    "ticker_month_after_df = ticker_df.rename(columns={'Month':'Month After'})"
   ]
  },
  {
   "cell_type": "code",
   "execution_count": null,
   "metadata": {},
   "outputs": [],
   "source": [
    "# Combine both data frames\n",
    "combined_df = pd.merge(ticker_month_after_df, unemployment_month_after_df, how='inner', on=['Year','Month After'])\n",
    "\n",
    "# Add the linear regression equation and line to plot\n",
    "x_values = combined_df['Rate']\n",
    "y_values = combined_df['Monthly Profits']\n",
    "(slope, intercept, rvalue, pvalue, stderr) = linregress(x_values, y_values)\n",
    "regress_values = x_values * slope + intercept\n",
    "line_eq = \"y = \" + str(round(slope,2)) + \"x + \" + str(round(intercept,2))\n",
    "plt.scatter(x_values,y_values)\n",
    "plt.plot(x_values,regress_values,\"r-\")\n",
    "\n",
    "# Adjust the annotated location as required\n",
    "plt.annotate(line_eq,(10,-100),fontsize=15,color=\"red\")\n",
    "plt.xlabel('Unemployment Rate (%)')\n",
    "plt.ylabel('Monthly Profits (same month with unemployement announce)')\n",
    "plt.title(f'Comparison of Monthly Profits vs Unemployment Rate for {symbol}')\n",
    "\n",
    "# Print the r squared value\n",
    "print(f\"The r-squared is: {round(rvalue**2, 4)}\")\n",
    "\n",
    "# Show plot\n",
    "plt.show()"
   ]
  }
 ],
 "metadata": {
  "kernelspec": {
   "display_name": "dev3.10",
   "language": "python",
   "name": "python3"
  },
  "language_info": {
   "codemirror_mode": {
    "name": "ipython",
    "version": 3
   },
   "file_extension": ".py",
   "mimetype": "text/x-python",
   "name": "python",
   "nbconvert_exporter": "python",
   "pygments_lexer": "ipython3",
   "version": "3.10.13"
  }
 },
 "nbformat": 4,
 "nbformat_minor": 2
}
