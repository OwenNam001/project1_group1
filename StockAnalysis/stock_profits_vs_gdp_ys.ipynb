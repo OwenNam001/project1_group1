{
 "cells": [
  {
   "cell_type": "markdown",
   "metadata": {},
   "source": [
    "# Stock Profits vs US Real GDP per Capita\n",
    "\n",
    "Monthly profits (y-axis) vs Monthly Real GDP per Capita (x-axis) by scatter plot using Alphavantage API"
   ]
  },
  {
   "cell_type": "code",
   "execution_count": 1,
   "metadata": {},
   "outputs": [],
   "source": [
    "# Dependencies and Setup\n",
    "import matplotlib.pyplot as plt\n",
    "import pandas as pd\n",
    "import numpy as np\n",
    "import requests\n",
    "import time\n",
    "from scipy.stats import linregress\n",
    "from pprint import pprint\n",
    "\n",
    "# Import the API key\n",
    "from api_keys import bls_api_key, alpha_vantage_api_key\n",
    "\n",
    "# Turn off warning messages\n",
    "import warnings\n",
    "warnings.filterwarnings(\"ignore\")"
   ]
  },
  {
   "cell_type": "markdown",
   "metadata": {},
   "source": [
    "# Optional: Ticker Check "
   ]
  },
  {
   "cell_type": "code",
   "execution_count": 2,
   "metadata": {},
   "outputs": [],
   "source": [
    "# # Set base url\n",
    "# base_url = 'https://www.alphavantage.co/query?'\n",
    "\n",
    "# # Set parameters\n",
    "# function = 'SYMBOL_SEARCH'\n",
    "# keywords = input('Enter your search: ')\n",
    "# apikey = alpha_vantage_api_key\n",
    "\n",
    "# # Create parameter dictionary\n",
    "# params = {'function': function,\n",
    "#           'keywords': keywords,\n",
    "#           'apikey': apikey}\n",
    "\n",
    "# # Run a request and return response\n",
    "# response = requests.get(base_url, params=params)\n",
    "\n",
    "# # Convert response to json\n",
    "# response_json = response.json()\n",
    "# response_json"
   ]
  },
  {
   "cell_type": "markdown",
   "metadata": {},
   "source": [
    "# Part 1: Find Monthly Stock Profit of ticker\n",
    "**Note: Monthly profits is defined by the stock price at 'close' of the month minus stock price at 'Open' of the month.**\n",
    "\n",
    "### Alpha Vantage\n",
    "Reference https://www.alphavantage.co/documentation/#monthly.\n",
    "\n",
    "### Ticker symbol QQQ\n",
    "Reference https://www.nasdaq.com/market-activity/etf/qqq. This is based on NASDAQ-100 index."
   ]
  },
  {
   "cell_type": "code",
   "execution_count": 3,
   "metadata": {},
   "outputs": [],
   "source": [
    "# Set base url\n",
    "base_url = 'https://www.alphavantage.co/query?'\n",
    "\n",
    "# Set parameters\n",
    "function = 'TIME_SERIES_MONTHLY'\n",
    "symbol = 'QQQ'\n",
    "apikey = alpha_vantage_api_key\n",
    "\n",
    "# Create parameter dictionary\n",
    "params = {'function': function,\n",
    "          'symbol': symbol,\n",
    "          'apikey': apikey}\n",
    "\n",
    "# Run a request and return response\n",
    "response = requests.get(base_url, params=params)\n",
    "\n",
    "# Convert response to json\n",
    "response_json = response.json()"
   ]
  },
  {
   "cell_type": "code",
   "execution_count": 4,
   "metadata": {},
   "outputs": [],
   "source": [
    "# Create an empty list to store stock price\n",
    "ticker_prices = []\n",
    "\n",
    "# Loop through the list of price data and store in a list\n",
    "ticker_price = response_json['Monthly Time Series']\n",
    "\n",
    "# Iterate key-value pairs of the list\n",
    "for date, value in ticker_price.items():\n",
    "    \n",
    "    ticker_prices.append({'Date': date,\n",
    "                          'Open': value['1. open'],\n",
    "                          'Close': value['4. close']})\n",
    "\n",
    "# Create data frame based on collected list\n",
    "ticker_df = pd.DataFrame(ticker_prices)\n",
    "\n",
    "# Convert Date columnb type from object to datetime\n",
    "ticker_df['Date'] = pd.to_datetime(ticker_df['Date'], format='%Y-%m-%d')\n",
    "\n",
    "# Convert profit column from object to float and into unit (millions)\n",
    "ticker_df['Open'] = ticker_df['Open'].astype(float)\n",
    "ticker_df['Close'] = ticker_df['Close'].astype(float)\n",
    "\n",
    "# Create new columns for data frame\n",
    "# Extract year and month\n",
    "ticker_df['Year'] = ticker_df['Date'].dt.year\n",
    "ticker_df['Month'] = ticker_df['Date'].dt.month\n",
    "ticker_df['Monthly Profits'] = ticker_df['Close'] - ticker_df['Open']\n",
    "\n",
    "# Convert month from integer to string\n",
    "ticker_df['Month'] = pd.to_datetime(ticker_df['Month'].astype(str), format='%m').dt.month_name()\n",
    "\n",
    "# Remove irrelevant columns\n",
    "ticker_df = ticker_df.loc[:, ['Year', 'Month', 'Monthly Profits']]"
   ]
  },
  {
   "cell_type": "markdown",
   "metadata": {},
   "source": [
    "# Part 2: Find US Real GDP per Capita\n",
    "This API returns the quarterly Real GDP per Capita data of the United States."
   ]
  },
  {
   "cell_type": "code",
   "execution_count": 5,
   "metadata": {},
   "outputs": [],
   "source": [
    "# Set base url\n",
    "base_url = 'https://www.alphavantage.co/query?'\n",
    "\n",
    "# Set parameters\n",
    "function = 'REAL_GDP_PER_CAPITA'\n",
    "apikey = alpha_vantage_api_key\n",
    "\n",
    "# Create parameter dictionary\n",
    "params = {'function': function,\n",
    "          'apikey': apikey}\n",
    "\n",
    "# Run a request and return response\n",
    "response = requests.get(base_url, params=params)\n",
    "\n",
    "# Convert response to json\n",
    "response_json = response.json()"
   ]
  },
  {
   "cell_type": "code",
   "execution_count": 6,
   "metadata": {},
   "outputs": [],
   "source": [
    "# Create data frame\n",
    "gdp_df = pd.DataFrame(response_json['data'])\n",
    "\n",
    "# Convert Date columnb type from object to datetime\n",
    "gdp_df['date'] = pd.to_datetime(gdp_df['date'], format='%Y-%m-%d')\n",
    "\n",
    "# Convert value column from object to float\n",
    "gdp_df['value'] = gdp_df['value'].astype(float)\n",
    "\n",
    "# Create new columns for data frame\n",
    "# Extract year and month\n",
    "gdp_df['Year'] = gdp_df['date'].dt.year\n",
    "gdp_df['Month'] = gdp_df['date'].dt.month\n",
    "\n",
    "# Convert month from integer to string\n",
    "gdp_df['Month'] = pd.to_datetime(gdp_df['Month'].astype(str), format='%m').dt.month_name()\n",
    "\n",
    "# Remove irrelevant columns\n",
    "gdp_df = gdp_df.loc[:, ['Year', 'Month', 'value']]"
   ]
  },
  {
   "cell_type": "markdown",
   "metadata": {},
   "source": [
    "# Part 3: Merge Data Frames and Plot"
   ]
  },
  {
   "cell_type": "code",
   "execution_count": 7,
   "metadata": {},
   "outputs": [
    {
     "name": "stdout",
     "output_type": "stream",
     "text": [
      "The r-squared is: 0.0437\n",
      "The p-value is: 0.04\n"
     ]
    },
    {
     "data": {
      "image/png": "[encoded data removed]",
      "text/plain": [
       "<Figure size 640x480 with 1 Axes>"
      ]
     },
     "metadata": {},
     "output_type": "display_data"
    }
   ],
   "source": [
    "# Combine both data frames\n",
    "combined_df = pd.merge(gdp_df, ticker_df, how='inner', on=['Year','Month'])\n",
    "\n",
    "# Add the linear regression equation and line to plot\n",
    "x_values = combined_df['value']\n",
    "y_values = combined_df['Monthly Profits']\n",
    "(slope, intercept, rvalue, pvalue, stderr) = linregress(x_values, y_values)\n",
    "regress_values = x_values * slope + intercept\n",
    "line_eq = \"y = \" + str(round(slope,4)) + \"x + \" + str(round(intercept,2))\n",
    "plt.scatter(x_values,y_values)\n",
    "plt.plot(x_values,regress_values,\"r-\")\n",
    "\n",
    "# Adjust the annotated location as required\n",
    "plt.annotate(line_eq,(50000,15),fontsize=15,color=\"red\")\n",
    "plt.xlabel('Quartery GDP per Capita (USD)')\n",
    "plt.ylabel('Quarterly Profits (USD)')\n",
    "plt.title(f'Comparison of Stock Profits vs GDP per Capita')\n",
    "\n",
    "# Print the r squared value\n",
    "print(f\"The r-squared is: {round(rvalue**2, 4)}\")\n",
    "print(f\"The p-value is: {round(pvalue, 4)}\")\n",
    "\n",
    "# Show plot\n",
    "plt.show()"
   ]
  },
  {
   "cell_type": "code",
   "execution_count": null,
   "metadata": {},
   "outputs": [],
   "source": []
  }
 ],
 "metadata": {
  "kernelspec": {
   "display_name": "PythonData",
   "language": "python",
   "name": "python3"
  },
  "language_info": {
   "codemirror_mode": {
    "name": "ipython",
    "version": 3
   },
   "file_extension": ".py",
   "mimetype": "text/x-python",
   "name": "python",
   "nbconvert_exporter": "python",
   "pygments_lexer": "ipython3",
   "version": "3.10.13"
  }
 },
 "nbformat": 4,
 "nbformat_minor": 2
}
