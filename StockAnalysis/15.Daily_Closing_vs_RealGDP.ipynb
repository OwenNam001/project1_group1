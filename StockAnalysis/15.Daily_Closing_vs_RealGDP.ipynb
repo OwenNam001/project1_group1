{
 "cells": [
  {
   "cell_type": "code",
   "execution_count": 1,
   "metadata": {},
   "outputs": [],
   "source": [
    "# Import Dependencies\n",
    "import matplotlib.pyplot as plt\n",
    "import pandas as pd\n",
    "import numpy as np\n",
    "import requests\n",
    "import time\n",
    "from scipy.stats import linregress\n",
    "from pprint import pprint\n",
    "import yfinance as yf\n",
    "import calendar\n",
    "from datetime import datetime\n",
    "\n",
    "# Import the API key\n",
    "from api_keys import alpha_vantage_api_key, bls_api_key, fred_api_key\n",
    "from fredapi import Fred # https://pypi.org/project/fredapi/  https://cran.r-project.org/web/packages/eFRED/vignettes/FetchingDataFromFRED.html"
   ]
  },
  {
   "cell_type": "markdown",
   "metadata": {},
   "source": [
    "# Getting Daily stock close price compared to US Real GDP Quarterly\n",
    "Daily closing Stock price and US Real GDP per Capita (y-axis : scaling 0 ~ 1), Quarterly (x-axis) for 10 years by line plot (Bailey)\n"
   ]
  },
  {
   "cell_type": "markdown",
   "metadata": {},
   "source": [
    "### Step 1: US Real GDP per Capita\n",
    "Using \"A939RX0Q048SBEA\" on FRED as it seems pretty accurate"
   ]
  },
  {
   "cell_type": "code",
   "execution_count": 2,
   "metadata": {},
   "outputs": [],
   "source": [
    "\n",
    "# FRED API url assembly\n",
    "url = \"https://api.stlouisfed.org/fred/series/observations\"\n",
    "params = {\n",
    "    \"series_id\": \"A939RX0Q048SBEA\",  # Interest rate series ID\n",
    "    \"api_key\": fred_api_key,  # Replace with your API key\n",
    "    \"file_type\": \"json\",\n",
    "    \"observation_start\": \"2010-01-01\", # Starting year of data gathering\n",
    "    \"observation_end\": \"2019-12-31\" \n",
    "}\n",
    "# Make the response, ensure that you've added your API key for FRED in the api_keys.py file else this request will not work\n",
    "# Please also note that FRED has a limited number of requests per day so only run this cell a few times\n",
    "response = requests.get(url, params=params)\n",
    "GDP_Data = response.json()"
   ]
  },
  {
   "cell_type": "markdown",
   "metadata": {},
   "source": [
    "### Step 2: Get stock data\n",
    "Using Common_Module we import the stockdata dataframe"
   ]
  },
  {
   "cell_type": "code",
   "execution_count": 3,
   "metadata": {},
   "outputs": [
    {
     "data": {
      "text/html": [
       "<div>\n",
       "<style scoped>\n",
       "    .dataframe tbody tr th:only-of-type {\n",
       "        vertical-align: middle;\n",
       "    }\n",
       "\n",
       "    .dataframe tbody tr th {\n",
       "        vertical-align: top;\n",
       "    }\n",
       "\n",
       "    .dataframe thead th {\n",
       "        text-align: right;\n",
       "    }\n",
       "</style>\n",
       "<table border=\"1\" class=\"dataframe\">\n",
       "  <thead>\n",
       "    <tr style=\"text-align: right;\">\n",
       "      <th></th>\n",
       "      <th>Date</th>\n",
       "      <th>Close</th>\n",
       "    </tr>\n",
       "  </thead>\n",
       "  <tbody>\n",
       "    <tr>\n",
       "      <th>3605</th>\n",
       "      <td>2010-01-04</td>\n",
       "      <td>46.42</td>\n",
       "    </tr>\n",
       "    <tr>\n",
       "      <th>3604</th>\n",
       "      <td>2010-01-05</td>\n",
       "      <td>46.42</td>\n",
       "    </tr>\n",
       "    <tr>\n",
       "      <th>3603</th>\n",
       "      <td>2010-01-06</td>\n",
       "      <td>46.14</td>\n",
       "    </tr>\n",
       "    <tr>\n",
       "      <th>3602</th>\n",
       "      <td>2010-01-07</td>\n",
       "      <td>46.17</td>\n",
       "    </tr>\n",
       "    <tr>\n",
       "      <th>3601</th>\n",
       "      <td>2010-01-08</td>\n",
       "      <td>46.55</td>\n",
       "    </tr>\n",
       "    <tr>\n",
       "      <th>...</th>\n",
       "      <td>...</td>\n",
       "      <td>...</td>\n",
       "    </tr>\n",
       "    <tr>\n",
       "      <th>1094</th>\n",
       "      <td>2019-12-24</td>\n",
       "      <td>211.92</td>\n",
       "    </tr>\n",
       "    <tr>\n",
       "      <th>1093</th>\n",
       "      <td>2019-12-26</td>\n",
       "      <td>213.79</td>\n",
       "    </tr>\n",
       "    <tr>\n",
       "      <th>1092</th>\n",
       "      <td>2019-12-27</td>\n",
       "      <td>213.61</td>\n",
       "    </tr>\n",
       "    <tr>\n",
       "      <th>1091</th>\n",
       "      <td>2019-12-30</td>\n",
       "      <td>212.21</td>\n",
       "    </tr>\n",
       "    <tr>\n",
       "      <th>1090</th>\n",
       "      <td>2019-12-31</td>\n",
       "      <td>212.61</td>\n",
       "    </tr>\n",
       "  </tbody>\n",
       "</table>\n",
       "<p>2516 rows × 2 columns</p>\n",
       "</div>"
      ],
      "text/plain": [
       "           Date   Close\n",
       "3605 2010-01-04   46.42\n",
       "3604 2010-01-05   46.42\n",
       "3603 2010-01-06   46.14\n",
       "3602 2010-01-07   46.17\n",
       "3601 2010-01-08   46.55\n",
       "...         ...     ...\n",
       "1094 2019-12-24  211.92\n",
       "1093 2019-12-26  213.79\n",
       "1092 2019-12-27  213.61\n",
       "1091 2019-12-30  212.21\n",
       "1090 2019-12-31  212.61\n",
       "\n",
       "[2516 rows x 2 columns]"
      ]
     },
     "execution_count": 3,
     "metadata": {},
     "output_type": "execute_result"
    }
   ],
   "source": [
    "from Common_Module.Common_Stockdata import get_stock_data\n",
    "stock = get_stock_data()\n",
    "stock[[\"Date\", \"Close\"]].sort_values(by=[\"Date\"])"
   ]
  },
  {
   "cell_type": "markdown",
   "metadata": {},
   "source": [
    "### Step 3: turn into GDP Dataframe\n",
    "Turn the raw json data from FRED into a Dataframe that can be organised easier"
   ]
  },
  {
   "cell_type": "code",
   "execution_count": 4,
   "metadata": {},
   "outputs": [
    {
     "name": "stdout",
     "output_type": "stream",
     "text": [
      "\n"
     ]
    }
   ],
   "source": [
    "datatotal = 0\n",
    "updated_date = []\n",
    "updated_rate = [] # assigned variables outside forloop with empty variables ready to be appended\n",
    "# For loop will take the date and rate from the json file for the 10 years requested and add the values to a new array\n",
    "for observation in GDP_Data[\"observations\"]:\n",
    "    date = observation[\"date\"]\n",
    "    interest_rate = observation[\"value\"]\n",
    "    updated_date.append(date)\n",
    "    updated_rate.append(interest_rate)\n",
    "    datatotal = datatotal + 1\n",
    "\n",
    "daily_GDP_df = pd.DataFrame({\n",
    "    \"Date\" : updated_date,\n",
    "    \"GDP Amount\" : updated_rate\n",
    "    })\n",
    "daily_GDP_df.replace('.', pd.NA, inplace=True)  # Use pd.NA for missing values in newer versions of Pandas\n",
    "daily_GDP_df.dropna(inplace=True) # Dropping any nulls based on '.'\n",
    "daily_GDP_df.reset_index()\n",
    "print()"
   ]
  },
  {
   "cell_type": "markdown",
   "metadata": {},
   "source": [
    "### Step 4: Convert into one dataframe\n",
    "Now we get both of these frames and combine them based on the DATE column"
   ]
  },
  {
   "cell_type": "code",
   "execution_count": 8,
   "metadata": {},
   "outputs": [
    {
     "name": "stderr",
     "output_type": "stream",
     "text": [
      "C:\\Users\\baile\\AppData\\Local\\Temp\\ipykernel_14432\\3236997414.py:9: FutureWarning: DataFrame.fillna with 'method' is deprecated and will raise in a future version. Use obj.ffill() or obj.bfill() instead.\n",
      "  merged_GDP_df[gdp_columns] = merged_GDP_df[gdp_columns].fillna(method='ffill')\n"
     ]
    }
   ],
   "source": [
    "stock['Date'] = pd.to_datetime(stock['Date'])\n",
    "daily_GDP_df['Date'] = pd.to_datetime(daily_GDP_df['Date'])\n",
    "\n",
    "# Merge using pd.merge_asof()\n",
    "merged_GDP_df = pd.merge_asof(stock.sort_values('Date'), daily_GDP_df, on='Date', direction='backward')\n",
    "\n",
    "# Fill NaN values in GDP columns with the last valid observation\n",
    "gdp_columns = [col for col in merged_GDP_df.columns if 'GDP' in col]\n",
    "merged_GDP_df[gdp_columns] = merged_GDP_df[gdp_columns].fillna(method='ffill')\n",
    "\n",
    "# Drop NaN values\n",
    "merged_GDP_df.dropna(inplace=True)"
   ]
  },
  {
   "cell_type": "markdown",
   "metadata": {},
   "source": [
    "### Step 5: Dataframe organising \n",
    "Sort all the data and arrange it into lists and arrays to be used in the Line Graph"
   ]
  },
  {
   "cell_type": "code",
   "execution_count": 6,
   "metadata": {},
   "outputs": [],
   "source": [
    "close_list = merged_GDP_df[\"Close\"].tolist()\n",
    "close_list_float = [float(val) for val in close_list]\n",
    "close_array = np.array(close_list_float)\n",
    "\n",
    "close_list_min = close_array.min()\n",
    "close_list_max = close_array.max()\n",
    "\n",
    "close_list_float_normalised = (close_array - close_list_min) / (close_list_max - close_list_min)\n",
    "close_list_float_normalised\n",
    "\n",
    "GDP_list = merged_GDP_df['GDP Amount'].tolist()\n",
    "GDP_list_float = [float(val) for val in GDP_list]\n",
    "GDP_array = np.array(GDP_list_float)\n",
    "\n",
    "GDP_list_min = GDP_array.min()\n",
    "GDP_list_max = GDP_array.max()\n",
    "GDP_list_float_normalised = (GDP_array - GDP_list_min) / (GDP_list_max - GDP_list_min)"
   ]
  },
  {
   "cell_type": "code",
   "execution_count": 7,
   "metadata": {},
   "outputs": [
    {
     "data": {
      "text/plain": [
       "<matplotlib.legend.Legend at 0x1aed1a35b40>"
      ]
     },
     "execution_count": 7,
     "metadata": {},
     "output_type": "execute_result"
    },
    {
     "data": {
      "image/png": "[encoded data removed]",
      "text/plain": [
       "<Figure size 640x480 with 1 Axes>"
      ]
     },
     "metadata": {},
     "output_type": "display_data"
    }
   ],
   "source": [
    "# Graphing the plot\n",
    "plt.plot(merged_GDP_df['Date'], close_list_float_normalised, label='Daily Stock Price')\n",
    "plt.plot(merged_GDP_df['Date'], GDP_list_float_normalised, label='Real GDP Price', color='red')\n",
    "plt.legend()"
   ]
  }
 ],
 "metadata": {
  "kernelspec": {
   "display_name": "3.10pyv",
   "language": "python",
   "name": "python3"
  },
  "language_info": {
   "codemirror_mode": {
    "name": "ipython",
    "version": 3
   },
   "file_extension": ".py",
   "mimetype": "text/x-python",
   "name": "python",
   "nbconvert_exporter": "python",
   "pygments_lexer": "ipython3",
   "version": "3.10.14"
  }
 },
 "nbformat": 4,
 "nbformat_minor": 2
}
