{
 "cells": [
  {
   "cell_type": "markdown",
   "metadata": {},
   "source": [
    "# 17. Daily Closing Stock Price compared to US CPI price\n",
    "Hypothesis: I believe there will be a significant relationship between daily closing stock price and Monthly US CPI.\n",
    "\n",
    "Conclusion: The pearson r correlation is 0.96 showing a very high correlation between the two variables, showing the hypothesis is true."
   ]
  },
  {
   "cell_type": "code",
   "execution_count": 10,
   "metadata": {},
   "outputs": [],
   "source": [
    "# Import Dependencies\n",
    "import matplotlib.pyplot as plt\n",
    "import pandas as pd\n",
    "import numpy as np\n",
    "import requests\n",
    "import time\n",
    "import scipy.stats as st\n",
    "from scipy.stats import linregress\n",
    "from pprint import pprint\n",
    "import yfinance as yf\n",
    "import calendar\n",
    "from datetime import datetime\n",
    "\n",
    "# Import the API key\n",
    "from api_keys import fred_api_key"
   ]
  },
  {
   "cell_type": "markdown",
   "metadata": {},
   "source": [
    "# Getting Daily stock close price compared to Monthly US CPI\n",
    "Daily closing Stock price and US CPI (y-axis : scaling 0 ~ 1), Monthly (x-axis) for 10 years by line plot "
   ]
  },
  {
   "cell_type": "markdown",
   "metadata": {},
   "source": [
    "### Step 1: US CPI\n",
    "Using \"CUSR0000SEEB\" on FRED as it seems pretty accurate"
   ]
  },
  {
   "cell_type": "code",
   "execution_count": 11,
   "metadata": {},
   "outputs": [],
   "source": [
    "# FRED API url assembly\n",
    "url = \"https://api.stlouisfed.org/fred/series/observations\"\n",
    "params = {\n",
    "    \"series_id\": \"CUSR0000SEEB\",  # Interest rate series ID\n",
    "    \"api_key\": fred_api_key,  # Replace with your API key\n",
    "    \"file_type\": \"json\",\n",
    "    \"observation_start\": \"2010-01-01\", # Starting year of data gathering\n",
    "    \"observation_end\": \"2019-12-31\" \n",
    "}\n",
    "# Make the response, ensure that you've added your API key for FRED in the api_keys.py file else this request will not work\n",
    "# Please also note that FRED has a limited number of requests per day so only run this cell a few times\n",
    "response = requests.get(url, params=params)\n",
    "CPI_Data = response.json()"
   ]
  },
  {
   "cell_type": "markdown",
   "metadata": {},
   "source": [
    "### Step 2: Get stock data\n",
    "Using Common_Module we import the stockdata dataframe"
   ]
  },
  {
   "cell_type": "code",
   "execution_count": 12,
   "metadata": {},
   "outputs": [
    {
     "data": {
      "text/html": [
       "<div>\n",
       "<style scoped>\n",
       "    .dataframe tbody tr th:only-of-type {\n",
       "        vertical-align: middle;\n",
       "    }\n",
       "\n",
       "    .dataframe tbody tr th {\n",
       "        vertical-align: top;\n",
       "    }\n",
       "\n",
       "    .dataframe thead th {\n",
       "        text-align: right;\n",
       "    }\n",
       "</style>\n",
       "<table border=\"1\" class=\"dataframe\">\n",
       "  <thead>\n",
       "    <tr style=\"text-align: right;\">\n",
       "      <th></th>\n",
       "      <th>Date</th>\n",
       "      <th>Close</th>\n",
       "    </tr>\n",
       "  </thead>\n",
       "  <tbody>\n",
       "    <tr>\n",
       "      <th>3606</th>\n",
       "      <td>2010-01-04</td>\n",
       "      <td>46.42</td>\n",
       "    </tr>\n",
       "    <tr>\n",
       "      <th>3605</th>\n",
       "      <td>2010-01-05</td>\n",
       "      <td>46.42</td>\n",
       "    </tr>\n",
       "    <tr>\n",
       "      <th>3604</th>\n",
       "      <td>2010-01-06</td>\n",
       "      <td>46.14</td>\n",
       "    </tr>\n",
       "    <tr>\n",
       "      <th>3603</th>\n",
       "      <td>2010-01-07</td>\n",
       "      <td>46.17</td>\n",
       "    </tr>\n",
       "    <tr>\n",
       "      <th>3602</th>\n",
       "      <td>2010-01-08</td>\n",
       "      <td>46.55</td>\n",
       "    </tr>\n",
       "    <tr>\n",
       "      <th>...</th>\n",
       "      <td>...</td>\n",
       "      <td>...</td>\n",
       "    </tr>\n",
       "    <tr>\n",
       "      <th>1095</th>\n",
       "      <td>2019-12-24</td>\n",
       "      <td>211.92</td>\n",
       "    </tr>\n",
       "    <tr>\n",
       "      <th>1094</th>\n",
       "      <td>2019-12-26</td>\n",
       "      <td>213.79</td>\n",
       "    </tr>\n",
       "    <tr>\n",
       "      <th>1093</th>\n",
       "      <td>2019-12-27</td>\n",
       "      <td>213.61</td>\n",
       "    </tr>\n",
       "    <tr>\n",
       "      <th>1092</th>\n",
       "      <td>2019-12-30</td>\n",
       "      <td>212.21</td>\n",
       "    </tr>\n",
       "    <tr>\n",
       "      <th>1091</th>\n",
       "      <td>2019-12-31</td>\n",
       "      <td>212.61</td>\n",
       "    </tr>\n",
       "  </tbody>\n",
       "</table>\n",
       "<p>2516 rows × 2 columns</p>\n",
       "</div>"
      ],
      "text/plain": [
       "           Date   Close\n",
       "3606 2010-01-04   46.42\n",
       "3605 2010-01-05   46.42\n",
       "3604 2010-01-06   46.14\n",
       "3603 2010-01-07   46.17\n",
       "3602 2010-01-08   46.55\n",
       "...         ...     ...\n",
       "1095 2019-12-24  211.92\n",
       "1094 2019-12-26  213.79\n",
       "1093 2019-12-27  213.61\n",
       "1092 2019-12-30  212.21\n",
       "1091 2019-12-31  212.61\n",
       "\n",
       "[2516 rows x 2 columns]"
      ]
     },
     "execution_count": 12,
     "metadata": {},
     "output_type": "execute_result"
    }
   ],
   "source": [
    "from Common_Module.Common_Stockdata import get_stock_data\n",
    "stock = get_stock_data()\n",
    "stock[[\"Date\", \"Close\"]].sort_values(by=[\"Date\"])"
   ]
  },
  {
   "cell_type": "markdown",
   "metadata": {},
   "source": [
    "### Step 3, turn into CPI Dataframe\n",
    "Turn the raw json data from FRED into a Dataframe that can be organised easier"
   ]
  },
  {
   "cell_type": "code",
   "execution_count": 13,
   "metadata": {},
   "outputs": [
    {
     "name": "stdout",
     "output_type": "stream",
     "text": [
      "\n"
     ]
    }
   ],
   "source": [
    "datatotal = 0\n",
    "updated_date = []\n",
    "updated_rate = [] # assigned variables outside forloop with empty variables ready to be appended\n",
    "# For loop will take the date and rate from the json file for the 10 years requested and add the values to a new array\n",
    "for observation in CPI_Data[\"observations\"]:\n",
    "    date = observation[\"date\"]\n",
    "    interest_rate = observation[\"value\"]\n",
    "    updated_date.append(date)\n",
    "    updated_rate.append(interest_rate)\n",
    "    datatotal = datatotal + 1\n",
    "\n",
    "Monthly_CPI_df = pd.DataFrame({\n",
    "    \"Date\" : updated_date,\n",
    "    \"CPI Price\" : updated_rate\n",
    "    })\n",
    "Monthly_CPI_df.replace('.', pd.NA, inplace=True)  # Use pd.NA for missing values in newer versions of Pandas\n",
    "Monthly_CPI_df.dropna(inplace=True) # Dropping any nulls based on '.'\n",
    "Monthly_CPI_df.reset_index()\n",
    "print()"
   ]
  },
  {
   "cell_type": "markdown",
   "metadata": {},
   "source": [
    "### Step 4: Convert into one dataframe\n",
    "Now we get both of these frames and combine them based on the DATE column"
   ]
  },
  {
   "cell_type": "code",
   "execution_count": 14,
   "metadata": {},
   "outputs": [
    {
     "name": "stderr",
     "output_type": "stream",
     "text": [
      "C:\\Users\\baile\\AppData\\Local\\Temp\\ipykernel_25636\\2547752691.py:9: FutureWarning: DataFrame.fillna with 'method' is deprecated and will raise in a future version. Use obj.ffill() or obj.bfill() instead.\n",
      "  merged_CPI_df[CPI_columns] = merged_CPI_df[CPI_columns].fillna(method='ffill')\n"
     ]
    }
   ],
   "source": [
    "stock['Date'] = pd.to_datetime(stock['Date'])\n",
    "Monthly_CPI_df['Date'] = pd.to_datetime(Monthly_CPI_df['Date'])\n",
    "\n",
    "# Merge using pd.merge_asof()\n",
    "merged_CPI_df = pd.merge_asof(stock.sort_values('Date'), Monthly_CPI_df, on='Date', direction='backward')\n",
    "\n",
    "# Fill NaN values in CPI columns with the last valid observation\n",
    "CPI_columns = [col for col in merged_CPI_df.columns if 'CPI' in col]\n",
    "merged_CPI_df[CPI_columns] = merged_CPI_df[CPI_columns].fillna(method='ffill')\n",
    "\n",
    "# Drop NaN values\n",
    "merged_CPI_df.dropna(inplace=True)"
   ]
  },
  {
   "cell_type": "markdown",
   "metadata": {},
   "source": [
    "### Step 5: Dataframe organising \n",
    "Sort all the data and arrange it into lists and arrays to be used in the Line Graph"
   ]
  },
  {
   "cell_type": "code",
   "execution_count": 15,
   "metadata": {},
   "outputs": [],
   "source": [
    "close_list = merged_CPI_df[\"Close\"].tolist()\n",
    "close_list_float = [float(val) for val in close_list]\n",
    "close_array = np.array(close_list_float)\n",
    "\n",
    "close_list_min = close_array.min()\n",
    "close_list_max = close_array.max()\n",
    "\n",
    "close_list_float_normalised = (close_array - close_list_min) / (close_list_max - close_list_min)\n",
    "close_list_float_normalised\n",
    "\n",
    "CPI_list = merged_CPI_df['CPI Price'].tolist()\n",
    "CPI_list_float = [float(val) for val in CPI_list]\n",
    "CPI_array = np.array(CPI_list_float)\n",
    "\n",
    "CPI_list_min = CPI_array.min()\n",
    "CPI_list_max = CPI_array.max()\n",
    "CPI_list_float_normalised = (CPI_array - CPI_list_min) / (CPI_list_max - CPI_list_min)"
   ]
  },
  {
   "cell_type": "code",
   "execution_count": 16,
   "metadata": {},
   "outputs": [
    {
     "data": {
      "image/png": "[encoded data removed]",
      "text/plain": [
       "<Figure size 640x480 with 1 Axes>"
      ]
     },
     "metadata": {},
     "output_type": "display_data"
    }
   ],
   "source": [
    "# Graphing the plot\n",
    "plt.plot(merged_CPI_df['Date'], close_list_float_normalised, label='Daily Stock Price')\n",
    "plt.plot(merged_CPI_df['Date'], CPI_list_float_normalised, label='CPI Price', color='red')\n",
    "plt.legend()\n",
    "plt.xlabel('Date')\n",
    "plt.ylabel('Price [Scaled]')\n",
    "plt.title('10 Year comparison of Closing Stock Price and the US CPI')\n",
    "plt.savefig(\"output_data/DailyClose_vs_CPI.png\")"
   ]
  },
  {
   "cell_type": "code",
   "execution_count": 17,
   "metadata": {},
   "outputs": [
    {
     "name": "stdout",
     "output_type": "stream",
     "text": [
      "The correlation between these variables is: 0.96\n"
     ]
    }
   ],
   "source": [
    "correlation = st.pearsonr(CPI_list_float_normalised, close_list_float_normalised)\n",
    "print(f\"The correlation between these variables is: {round(correlation[0],2)}\")"
   ]
  }
 ],
 "metadata": {
  "kernelspec": {
   "display_name": "3.10pyv",
   "language": "python",
   "name": "python3"
  },
  "language_info": {
   "codemirror_mode": {
    "name": "ipython",
    "version": 3
   },
   "file_extension": ".py",
   "mimetype": "text/x-python",
   "name": "python",
   "nbconvert_exporter": "python",
   "pygments_lexer": "ipython3",
   "version": "3.10.14"
  }
 },
 "nbformat": 4,
 "nbformat_minor": 2
}
