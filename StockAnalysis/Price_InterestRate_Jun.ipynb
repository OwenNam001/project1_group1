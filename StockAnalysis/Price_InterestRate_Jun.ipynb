{
 "cells": [
  {
   "cell_type": "code",
   "execution_count": 2,
   "metadata": {},
   "outputs": [],
   "source": [
    "# Dependencies and Setup\n",
    "import matplotlib.pyplot as plt\n",
    "import pandas as pd\n",
    "import numpy as np\n",
    "import requests\n",
    "import time\n",
    "from scipy.stats import linregress\n",
    "from pprint import pprint\n",
    "\n",
    "# Import the API key\n",
    "from api_keys import alpha_vantage_api_key, bls_api_key, fred_api_key"
   ]
  },
  {
   "cell_type": "code",
   "execution_count": 1,
   "metadata": {},
   "outputs": [
    {
     "ename": "NameError",
     "evalue": "name 'fred_api_key' is not defined",
     "output_type": "error",
     "traceback": [
      "\u001b[1;31m---------------------------------------------------------------------------\u001b[0m",
      "\u001b[1;31mNameError\u001b[0m                                 Traceback (most recent call last)",
      "Cell \u001b[1;32mIn[1], line 6\u001b[0m\n\u001b[0;32m      1\u001b[0m \u001b[38;5;66;03m# Create a DataFrame for Monthly Interest Rate\u001b[39;00m\n\u001b[0;32m      2\u001b[0m \u001b[38;5;66;03m# https://cran.r-project.org/web/packages/eFRED/vignettes/FetchingDataFromFRED.html\u001b[39;00m\n\u001b[0;32m      4\u001b[0m URL \u001b[38;5;241m=\u001b[39m \u001b[38;5;124m'\u001b[39m\u001b[38;5;124mhttps://api.stlouisfed.org/fred/series/observations\u001b[39m\u001b[38;5;124m'\u001b[39m\n\u001b[1;32m----> 6\u001b[0m api_key \u001b[38;5;241m=\u001b[39m \u001b[43mfred_api_key\u001b[49m\n\u001b[0;32m      7\u001b[0m series_id \u001b[38;5;241m=\u001b[39m \u001b[38;5;124m'\u001b[39m\u001b[38;5;124mDGS10\u001b[39m\u001b[38;5;124m'\u001b[39m  \u001b[38;5;66;03m# Series ID for the US 10-Year Treasury Constant Maturity Rate\u001b[39;00m\n\u001b[0;32m     10\u001b[0m \u001b[38;5;66;03m# Parameter setting\u001b[39;00m\n",
      "\u001b[1;31mNameError\u001b[0m: name 'fred_api_key' is not defined"
     ]
    }
   ],
   "source": [
    "# Create a DataFrame for Monthly Interest Rate\n",
    "# https://cran.r-project.org/web/packages/eFRED/vignettes/FetchingDataFromFRED.html\n",
    "\n",
    "URL = 'https://api.stlouisfed.org/fred/series/observations'\n",
    "\n",
    "api_key = fred_api_key\n",
    "series_id = 'DGS10'  # Series ID for the US 10-Year Treasury Constant Maturity Rate\n",
    "\n",
    "\n",
    "# Parameter setting\n",
    "params = {\n",
    "    'series_id': series_id,\n",
    "    'api_key': api_key,\n",
    "    'file_type': 'json',\n",
    "    'frequency': 'm',  # Monthly frequency\n",
    "    'observation_start': '2014-01-01',\n",
    "    'observation_end': '2019-12-31'\n",
    "}\n",
    "\n",
    "# Fetch interest rate data from BLS\n",
    "response = requests.post(URL, json=params)\n",
    "interest_rate_data = response.json()\n",
    "\n",
    "# Initialize an empty list to hold the interest rate data\n",
    "interest_rate_list = []\n",
    "\n",
    "# Extract data from the response\n",
    "series_data = interest_rate_data['observations']\n",
    "for item in series_data:\n",
    "        year = pd.to_datetime(item['date']).year\n",
    "        month = pd.to_datetime(item['date']).strftime('%B')  # Convert date to month name\n",
    "        interest_rate_list.append({\n",
    "                                    \"Year\": year,\n",
    "                                    \"Month\": month,\n",
    "                                    \"Rate\": item['value']\n",
    "                                })\n",
    "\n",
    "# Convert the list to a DataFrame\n",
    "interest_rate_data_df = pd.DataFrame(interest_rate_list)\n",
    "interest_rate_data_df[\"Rate\"] = pd.to_numeric(interest_rate_data_df[\"Rate\"], errors='coerce')  # Convert to float\n",
    "\n",
    "\n",
    "# Print the DataFrame\n",
    "print(interest_rate_data_df)"
   ]
  },
  {
   "cell_type": "code",
   "execution_count": null,
   "metadata": {},
   "outputs": [],
   "source": []
  }
 ],
 "metadata": {
  "kernelspec": {
   "display_name": "dev3.10",
   "language": "python",
   "name": "python3"
  },
  "language_info": {
   "codemirror_mode": {
    "name": "ipython",
    "version": 3
   },
   "file_extension": ".py",
   "mimetype": "text/x-python",
   "name": "python",
   "nbconvert_exporter": "python",
   "pygments_lexer": "ipython3",
   "version": "3.10.14"
  }
 },
 "nbformat": 4,
 "nbformat_minor": 2
}
